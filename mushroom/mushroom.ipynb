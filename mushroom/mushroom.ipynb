{
 "cells": [
  {
   "cell_type": "markdown",
   "metadata": {},
   "source": [
    "My last publication was on Subgroup Discovery for Sequences (you can access it freely [here](https://www.researchgate.net/publication/336315710_SeqScout_Using_a_Bandit_Model_to_Discover_Interesting_Subgroups_in_Labeled_Sequences)). However, in Data Science community, a lot of people are not aware of what \"Subgroup Discovery\" or \"Pattern Mining\" is. So let's see on a quick pratical example how to use it : knowing if Mushrooms are poisonous.\n",
    "\n",
    "## What is Subgroup Discovery ?\n",
    "Subgroup Discovery, Emerging Patterns, Contrast Set, or Discriminative Pattern Mining all refers to the same idea: finding patterns that are discriminative of a target class. In other words, the aim is to find predictive **interpretable** rules of a class. \n",
    "As an example, Herrera et al used Subgroup Discovery in the context of a [pyschiatric emergency department](https://www.researchgate.net/profile/Luis_Jimenez-Trevino/publication/220176495_Evolutionary_fuzzy_rule_extraction_for_subgroup_discovery_in_a_psychiatric_emergency_department/links/0f317530f622867ad7000000/Evolutionary-fuzzy-rule-extraction-for-subgroup-discovery-in-a-psychiatric-emergency-department.pdf). They found rules like:\n",
    "- If Sex=Male and DAY=Monday -> Suicide\n",
    "- If Sex=Female and (DAY=SUNDAY or DAY=MONDAY) and TIME=LATE_EVENING -> Suicide  \n",
    "\n",
    "Of course those rules are not correct 100% of the time, but they tell you that **when the pattern appears, there are more chances that the class appears too**.\n",
    "\n",
    "This is interesting for two reasons:\n",
    "- **Understanding your data** in a way that is interpretable by an expert.\n",
    "- Using those patterns to **improve classification** or regression algorithms. Indeed, as they are discriminative of a target class, you can use them as features to improve classical supervised learning.  \n",
    "\n",
    "Subgroup discovery can then be used to improve your system, *thanks to interpretability*: having the knowledge that people have more suicidal thoughts on sunday and monday, particulary on the night, you can put more workers on those period of time in department, for example. \n",
    "\n",
    "## Let's try it on Mushroom\n",
    "[Mushroom](https://archive.ics.uci.edu/ml/datasets/mushroom) is a famous dataset which contains characteristics of different species of mushrooms: its odor, its color, its habitat etc. More importantly, there is also the information that the mushroom is edible, or not.\n",
    "\n",
    "This will be our target class: when using a subgroup discovery algorithm, we give a dataset and a target class, and the algorithm returns a set of rules discriminative of the class. Here we are looking for *patterns* discriminative of Poisonous mushrooms. In other words, we want to find the **conjunction of features that are characteristics of poisonous mushrooms**.\n",
    "\n",
    "First, let's install [pysubgroup](https://github.com/flemmerich/pysubgroup), wich is an implementation of several subgroup discovery algorithms, in python:\n",
    "\n",
    "\n",
    "```bash\n",
    "pip install pysubgroup\n",
    "```"
   ]
  },
  {
   "cell_type": "code",
   "execution_count": 2,
   "metadata": {},
   "outputs": [],
   "source": [
    "import pysubgroup as ps\n",
    "import pandas as pd"
   ]
  },
  {
   "cell_type": "markdown",
   "metadata": {},
   "source": [
    "Let's take a look at the dataset."
   ]
  },
  {
   "cell_type": "code",
   "execution_count": 3,
   "metadata": {},
   "outputs": [
    {
     "name": "stdout",
     "output_type": "stream",
     "text": [
      "        EDIBLE CAP-SHAPE CAP-SURFACE CAP-COLOR BRUISES  ODOR GILL-ATTACHEMENT  \\\n",
      "count     8417      8416        8416      8416    8416  8416             8416   \n",
      "unique       3         6           4        10       2     9                2   \n",
      "top     EDIBLE    CONVEX       SCALY     BROWN      NO  NONE             FREE   \n",
      "freq      4488      3796        3268      2320    5040  3808             8200   \n",
      "\n",
      "       GILL-SPACING GILL-SIZE GILL-COLOR  ... STALK-SURFACE-BELOW-RING  \\\n",
      "count          8416      8416       8416  ...                     8416   \n",
      "unique            2         2         12  ...                        4   \n",
      "top           CLOSE     BROAD       BUFF  ...                   SMOOTH   \n",
      "freq           6824      5880       1728  ...                     5076   \n",
      "\n",
      "       STALK-COLOR-ABOVE-RING STALK-COLOR-BELOW-RING VEIL-TYPE VEIL-COLOR  \\\n",
      "count                    8416                   8416      8416       8416   \n",
      "unique                      9                      9         1          4   \n",
      "top                     WHITE                  WHITE   PARTIAL      WHITE   \n",
      "freq                     4744                   4640      8416       8216   \n",
      "\n",
      "       RING-NUMBER RING-TYPE SPORE-PRINT-COLOR POPULATION HABITAT  \n",
      "count         8416      8416              8416       8416    8416  \n",
      "unique           3         5                 9          6       7  \n",
      "top            ONE   PENDANT             WHITE    SEVERAL   WOODS  \n",
      "freq          7768      3968              2424       4064    3160  \n",
      "\n",
      "[4 rows x 23 columns]\n"
     ]
    }
   ],
   "source": [
    "data = pd.read_csv(\"./mushroom.csv\")\n",
    "print(data.describe())"
   ]
  },
  {
   "cell_type": "markdown",
   "metadata": {},
   "source": [
    "First we have to specify the target class: here the column 'EDIBLE', when it takes the value 'POISONOUS'. We also remove this column from the data, or else we would find rules like POISONOUS -> POISONOUS."
   ]
  },
  {
   "cell_type": "code",
   "execution_count": 32,
   "metadata": {},
   "outputs": [],
   "source": [
    "target = ps.NominalTarget ('EDIBLE', 'POISONOUS')\n",
    "searchspace = ps.create_selectors(data, ignore=['EDIBLE'])"
   ]
  },
  {
   "cell_type": "markdown",
   "metadata": {},
   "source": [
    "Then we have to create a Subgroup Discovery Task. In particular, we have to specify the **number of rules** we want to extract (result_set_size), the **maximum size of the rule** (depth), and the **quality measure**. If you do not know what a quality measure is, you can take the Weighted Relative Accuracy (WRAcc), which is one of the most popular of the domain."
   ]
  },
  {
   "cell_type": "code",
   "execution_count": null,
   "metadata": {},
   "outputs": [],
   "source": [
    "task = ps.SubgroupDiscoveryTask (data, target, searchspace, \n",
    "            result_set_size=5, depth=5, qf=ps.WRAccQF(1))"
   ]
  },
  {
   "cell_type": "markdown",
   "metadata": {},
   "source": [
    "Finally, we have to choose an algorithm to mine the rules. By default we can use the popular [beam search](https://en.wikipedia.org/wiki/Beam_search). "
   ]
  },
  {
   "cell_type": "code",
   "execution_count": null,
   "metadata": {},
   "outputs": [],
   "source": [
    "results = ps.BeamSearch().execute(task)"
   ]
  },
  {
   "cell_type": "markdown",
   "metadata": {},
   "source": [
    "Finally, we print the rules we got: "
   ]
  },
  {
   "cell_type": "code",
   "execution_count": 33,
   "metadata": {},
   "outputs": [
    {
     "name": "stdout",
     "output_type": "stream",
     "text": [
      "0.19389014936350082: <<T: EDIBLE=POISONOUS; D: BRUISES=NO AND GILL-SPACING=CLOSE AND VEIL-TYPE=PARTIAL AND VEIL-COLOR=WHITE>>\n",
      "0.19389014936350082: <<T: EDIBLE=POISONOUS; D: BRUISES=NO AND GILL-SPACING=CLOSE AND VEIL-COLOR=WHITE>>\n",
      "0.19236944009552903: <<T: EDIBLE=POISONOUS; D: BRUISES=NO AND GILL-SPACING=CLOSE AND GILL-ATTACHEMENT=FREE AND VEIL-COLOR=WHITE>>\n",
      "0.19236944009552903: <<T: EDIBLE=POISONOUS; D: BRUISES=NO AND GILL-SPACING=CLOSE AND GILL-ATTACHEMENT=FREE>>\n",
      "0.19236944009552903: <<T: EDIBLE=POISONOUS; D: BRUISES=NO AND GILL-SPACING=CLOSE AND VEIL-TYPE=PARTIAL AND GILL-ATTACHEMENT=FREE>>\n"
     ]
    }
   ],
   "source": [
    "for quality, pattern in results:\n",
    "    print('{}: {}'.format(quality, pattern))"
   ]
  },
  {
   "attachments": {},
   "cell_type": "markdown",
   "metadata": {},
   "source": [
    "It is important to see that the WRAcc takes its values between [-0.25;0.25] on a balanced dataset.\n",
    "A value of 0.1938 is very good: this means that this pattern is very discriminative of poisonous mushrooms.\n",
    "\n",
    "Let's take a look at the first example that we got. We learn that if a mushroom has no bruises, a close gill-spacing, a veil-type partial and white, it is very probably a poisonous one.\n",
    "\n",
    "This is perfectly interpretable for an expert. For information the following picture show what are the gill-spacing (or Hymenium here) and the Veil.\n",
    "![Gill-spacing illustration](http://www.toxinology.com/generic_static_files/images_generic/MD-fig1A-annulus-volva.gif)\n",
    "\n",
    "Let's take an example with the famous [Amanita phalloides](https://en.wikipedia.org/wiki/Amanita_phalloides). As you can see on the picture below, this mushroom has no bruises (I guess ? I am not an expert in mushrooms actually :) ), a close gill-spacing, and a white and partial veil. The rule tells you it is probably poisonous, and it is: Amanita phalloides is one of the most toxic mushroom !\n",
    "\n",
    "![Amanita phalloides](https://upload.wikimedia.org/wikipedia/commons/9/99/Amanita_phalloides_1.JPG)\n",
    "\n",
    "That's it, we have extracted useful **knowledge** from our dataset, and we can now use it to better understand our system. "
   ]
  },
  {
   "cell_type": "markdown",
   "metadata": {},
   "source": [
    "**Note**: The documentation of pysubgroup is lacking, but hopefully it will improve in the future.\n",
    "\n",
    "**Note**: There are also other ways to extract interpretable rules, for example training a decision tree and extracting the path taken in the tree can give a pattern explaining the prediction. Clustering can also group similar elements, and finding frequent pattern between them can create interpretable rules. \n",
    "\n",
    "The advantage of subgroup discovery over those methods is that it has been made to give those rules, whereas in those other methods it is not the main purpose of the algorithm. Here you have more control over what kind of rules you want to propose to the end-user, particulary because you can choose the *Quality Measure* you want to use. In this formalism you can also use exhaustive algorithm to list all possible rules, which is not the case in a decision tree, greedy by nature."
   ]
  }
 ],
 "metadata": {
  "kernelspec": {
   "display_name": "pysubgroup",
   "language": "python",
   "name": "pysubgroup"
  },
  "language_info": {
   "codemirror_mode": {
    "name": "ipython",
    "version": 3
   },
   "file_extension": ".py",
   "mimetype": "text/x-python",
   "name": "python",
   "nbconvert_exporter": "python",
   "pygments_lexer": "ipython3",
   "version": "3.6.8"
  }
 },
 "nbformat": 4,
 "nbformat_minor": 2
}
